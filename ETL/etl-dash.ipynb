{
 "cells": [
  {
   "cell_type": "code",
   "execution_count": 3,
   "metadata": {},
   "outputs": [],
   "source": [
    "import pandas as pd\n",
    "import seaborn as sns\n",
    "import plotly.express as px\n",
    "import matplotlib.pyplot as plt\n",
    "import numpy as np\n",
    "from plotly.subplots import make_subplots\n",
    "import statsmodels.api as sm # get data\n",
    "profile = pd.read_csv('cps-school-info22.csv')\n",
    "safety = pd.read_csv('cps_safety.csv')\n",
    "crime = pd.read_csv('crimes-22.csv')\n",
    "# merge profile & safety\n",
    "merge = profile.merge(safety, on='School_ID',how='left') # drop columns \n",
    "clean = merge.drop(columns=[ 'Long_Name_y', 'Primary_Category_y', 'Zip_y', 'Student_Count_Total_y', 'Student_Count_Low_Income_y', 'Student_Count_Special_Ed_y', 'Student_Count_Black_y', 'Student_Count_Hispanic_y', 'Student_Count_White_y', 'Student_Count_Asian_y', 'Student_Count_Native_American_y', 'Student_Count_Asian_Pacific_Islander_y', 'Student_Count_Hawaiian_Pacific_Islander_y', 'Statistics_Description_y', 'Demographic_Description_y', 'Overall_Rating_y', 'School_Latitude_y', 'School_Longitude_y'])# df with necessary crime columns, create # of crimes column\n",
    "crime_select = crime[[ 'Ward', 'Year']]\n",
    "crime_select = crime_select[crime_select['Year'] == 2022]\n",
    "crime_select = crime_select.groupby(['Ward', 'Year']).size().reset_index(name = 'num_crimes') # merge 3 dfs\n",
    "merged_data = pd.merge(clean, crime_select, on='Ward', how='outer')"
   ]
  },
  {
   "cell_type": "code",
   "execution_count": 13,
   "metadata": {},
   "outputs": [],
   "source": [
    "import pandas as pd\n",
    "from matplotlib import pyplot\n",
    "import plotly.express as px\n",
    "\n",
    "import pymssql\n",
    "\n",
    "# config file with credentials\n",
    "from config import database\n",
    "from config import username\n",
    "from config import password\n",
    "from config import server\n",
    "from config import table"
   ]
  },
  {
   "cell_type": "code",
   "execution_count": 4,
   "metadata": {},
   "outputs": [],
   "source": [
    "merged_data.to_csv('clara.csv')"
   ]
  },
  {
   "cell_type": "code",
   "execution_count": 5,
   "metadata": {},
   "outputs": [],
   "source": [
    "dl_2022 = pd.read_csv('dl_2022.csv')"
   ]
  },
  {
   "cell_type": "code",
   "execution_count": 7,
   "metadata": {},
   "outputs": [],
   "source": [
    "DLML1322 = dl_2022.loc[(dl_2022['Time Period1'] == 'EOY')]\n",
    "\n",
    "DLMLF1322 = DLML1322[\n",
    "    [\n",
    "        'Category',\n",
    "        'School Year',\n",
    "        '# of Misconducts2',\n",
    "        '# of Group 1-2 (minor) Misconducts3',\n",
    "        '# of Group 3-4 (moderate) Misconducts4',\n",
    "        '# of Group 5-6 (major) Misconducts5',\n",
    "        '# of Police Notifications',\n",
    "        '% of Misconducts Resulting in Police Notification'\n",
    "    ]\n",
    "]\n",
    "\n",
    "DLMLF1322 = DLMLF1322.loc[\n",
    "    ((DLMLF1322['Category'] == 'Grade PK-2') \n",
    "    | (DLMLF1322['Category'] == 'Grade 3-5') \n",
    "    | (DLMLF1322['Category'] == 'Grade 6-8') \n",
    "    | (DLMLF1322['Category'] == 'Grade 9-12'))\n",
    "    ]\n",
    "\n",
    "DLMLF1322['School Year'] = DLMLF1322['School Year'].astype('category').cat.codes"
   ]
  },
  {
   "cell_type": "code",
   "execution_count": 8,
   "metadata": {},
   "outputs": [],
   "source": [
    "DLMLF1322.to_csv('correlation.csv')"
   ]
  },
  {
   "cell_type": "code",
   "execution_count": 10,
   "metadata": {},
   "outputs": [],
   "source": [
    "wards = pd.read_csv('wards.csv')\n",
    "\n",
    "school_comm = wards[['School ID', 'Community Area Number']]\n",
    "sl_2022 = pd.read_csv('sl_2022.csv')"
   ]
  },
  {
   "cell_type": "code",
   "execution_count": 11,
   "metadata": {},
   "outputs": [],
   "source": [
    "misconduct = sl_2022[\n",
    "    [\n",
    "        'School ID', \n",
    "        '# of Misconducts', \n",
    "        '# of Suspensions (includes ISS and OSS)',\n",
    "        '# of Students Expelled',\n",
    "        '# of Police Notifications'\n",
    "        ]\n",
    "    ]\n",
    "\n",
    "misconduct = misconduct[misconduct['# of Misconducts'] != '--']\n",
    "misconduct = misconduct[misconduct['# of Suspensions (includes ISS and OSS)'] != '--']\n",
    "misconduct = misconduct[misconduct['# of Police Notifications'].astype('int64') != '--']"
   ]
  },
  {
   "cell_type": "code",
   "execution_count": 14,
   "metadata": {},
   "outputs": [
    {
     "name": "stderr",
     "output_type": "stream",
     "text": [
      "c:\\Users\\JassleenBhullar\\anaconda3\\lib\\site-packages\\pandas\\io\\sql.py:762: UserWarning: pandas only support SQLAlchemy connectable(engine/connection) ordatabase string URI or sqlite3 DBAPI2 connectionother DBAPI2 objects are not tested, please consider using SQLAlchemy\n",
      "  warnings.warn(\n"
     ]
    }
   ],
   "source": [
    "query = f'''\n",
    "SELECT \n",
    "    community_area,\n",
    "    count(community_area) AS num_crimes\n",
    "FROM {table}\n",
    "WHERE community_area IS NOT NULL\n",
    "GROUP BY community_area\n",
    "ORDER BY community_area\n",
    "'''\n",
    "\n",
    "con = pymssql.connect(server, username, password, database)\n",
    "\n",
    "comm = pd.read_sql(query, con)\n",
    "\n",
    "# Cleaning / Organizing\n",
    "comm['community_area'] = comm['community_area'].astype('int')\n",
    "comm = comm.sort_values('community_area').reset_index(drop=True)"
   ]
  },
  {
   "cell_type": "code",
   "execution_count": 15,
   "metadata": {},
   "outputs": [],
   "source": [
    "school_mis = misconduct.merge(\n",
    "    school_comm,\n",
    "    how = 'inner',\n",
    "    on = 'School ID',\n",
    "    )\n",
    "\n",
    "school_df = school_mis.merge(\n",
    "    comm,\n",
    "    how= 'inner',\n",
    "    left_on = 'Community Area Number',\n",
    "    right_on = 'community_area' \n",
    ").drop(columns='Community Area Number')\n",
    "\n",
    "# Cleaning\n",
    "school_df['# of Misconducts'] = school_df['# of Misconducts'].astype('int')\n",
    "school_df['# of Suspensions (includes ISS and OSS)'] = school_df['# of Suspensions (includes ISS and OSS)'].astype('int')\n",
    "school_df['# of Police Notifications'] = school_df['# of Police Notifications'].astype('int')"
   ]
  },
  {
   "cell_type": "code",
   "execution_count": 16,
   "metadata": {},
   "outputs": [],
   "source": [
    "miscon_crimes = school_df.groupby(['community_area']) \\\n",
    ".agg(\n",
    "    {\n",
    "    '# of Misconducts': 'sum',\n",
    "    '# of Suspensions (includes ISS and OSS)' : 'sum',\n",
    "    '# of Students Expelled': 'sum',\n",
    "    '# of Police Notifications' : 'sum',\n",
    "    'num_crimes' : 'mean',\n",
    "    }\n",
    ")"
   ]
  },
  {
   "cell_type": "code",
   "execution_count": 18,
   "metadata": {},
   "outputs": [],
   "source": [
    "miscon_crimes.to_csv('miscon_crimes.csv')"
   ]
  }
 ],
 "metadata": {
  "kernelspec": {
   "display_name": "base",
   "language": "python",
   "name": "python3"
  },
  "language_info": {
   "codemirror_mode": {
    "name": "ipython",
    "version": 3
   },
   "file_extension": ".py",
   "mimetype": "text/x-python",
   "name": "python",
   "nbconvert_exporter": "python",
   "pygments_lexer": "ipython3",
   "version": "3.9.13"
  },
  "orig_nbformat": 4,
  "vscode": {
   "interpreter": {
    "hash": "3690c861730c7aad7a175429fbc73d45283e9755e29f57522a3ee90d856b466e"
   }
  }
 },
 "nbformat": 4,
 "nbformat_minor": 2
}
